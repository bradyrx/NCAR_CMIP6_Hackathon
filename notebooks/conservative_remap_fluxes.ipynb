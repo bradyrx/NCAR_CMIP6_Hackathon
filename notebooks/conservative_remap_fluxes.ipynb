{
 "cells": [
  {
   "cell_type": "markdown",
   "metadata": {},
   "source": [
    "# Conservative Remap of Fluxes\n",
    "\n",
    "**Note**: This uses a branch in progress `allow-degenerate` : https://github.com/JiaweiZhuang/xESMF/tree/allow-degenerate"
   ]
  },
  {
   "cell_type": "code",
   "execution_count": 40,
   "metadata": {},
   "outputs": [],
   "source": [
    "%matplotlib inline\n",
    "\n",
    "import numpy as np\n",
    "import intake\n",
    "import xarray as xr\n",
    "import xesmf as xe"
   ]
  },
  {
   "cell_type": "code",
   "execution_count": 41,
   "metadata": {},
   "outputs": [],
   "source": [
    "def _unravel(new_bounds, vertex_bounds, M, N):\n",
    "    \"\"\"\n",
    "    Helper function to go from the vertex style to\n",
    "    the M+1, N+1 style of lat/lon bounds.\n",
    "    \"\"\"\n",
    "    new_bounds[0:N, 0:M] = vertex_bounds[:, :, 0]\n",
    "    \n",
    "    # fill in missing row\n",
    "    new_bounds[N, 0:M] = vertex_bounds[N-1, :, 1]\n",
    "    # fill in missing column\n",
    "    new_bounds[0:N, M] = vertex_bounds[:, M-1, 2]\n",
    "    # fill in remaining element\n",
    "    new_bounds[N, M] = vertex_bounds[N-1, M-1, 3]\n",
    "    return new_bounds\n",
    "        \n",
    "\n",
    "def compress_vertices(ds, lat_bnds_name='lat_b', lon_bnds_name='lon_b'):\n",
    "    \"\"\"\n",
    "    Converts (M, N, 4) (lat/lon/vertex) bounds to\n",
    "    (M+1, N+1) bounds for xESMF.\n",
    "    \"\"\"\n",
    "    M = ds.x.size\n",
    "    N = ds.y.size\n",
    "    \n",
    "    # create arrays for 2D bounds info\n",
    "    lat_b = np.zeros((N+1, M+1))\n",
    "    lon_b = np.zeros((N+1, M+1))\n",
    "    \n",
    "    # unravel nvertices to 2D style\n",
    "    lat_b = _unravel(lat_b, ds[lat_bnds_name], M, N)\n",
    "    lon_b = _unravel(lon_b, ds[lon_bnds_name], M, N)\n",
    "    \n",
    "    # get rid of old coordinates\n",
    "    del ds[lat_bnds_name], ds[lon_bnds_name]\n",
    "    ds = ds.squeeze()\n",
    "    \n",
    "    # assign new coordinates\n",
    "    ds.coords['lat_b'] = (('y_b', 'x_b'), lat_b)\n",
    "    ds.coords['lon_b'] = (('y_b', 'x_b'), lon_b)\n",
    "    return ds"
   ]
  },
  {
   "cell_type": "markdown",
   "metadata": {},
   "source": [
    "First attempt using the CESM2 data (which has regridded output to check against)."
   ]
  },
  {
   "cell_type": "code",
   "execution_count": 42,
   "metadata": {},
   "outputs": [],
   "source": [
    "col = intake.open_esm_datastore(\"/glade/collections/cmip/catalog/intake-esm-datastore/catalogs/glade-cmip6.json\")"
   ]
  },
  {
   "cell_type": "code",
   "execution_count": 43,
   "metadata": {},
   "outputs": [],
   "source": [
    "# Just select CESM2 here for a single ensemble member.\n",
    "cat = col.search(member_id='r1i1p1f1',\n",
    "                 experiment_id='historical',\n",
    "                 activity_id='CMIP',\n",
    "                 table_id='Omon',\n",
    "                 variable_id='fgco2',\n",
    "                 grid_label='gn',\n",
    "                 source_id='CESM2')"
   ]
  },
  {
   "cell_type": "code",
   "execution_count": 44,
   "metadata": {},
   "outputs": [
    {
     "name": "stdout",
     "output_type": "stream",
     "text": [
      "\n",
      "xarray will load netCDF datasets with dask using a single chunk for all arrays.\n",
      "For effective chunking, please provide chunks in cdf_kwargs.\n",
      "For example: cdf_kwargs={'chunks': {'time': 36}}\n",
      "\n",
      "--> The keys in the returned dictionary of datasets are constructed as follows:\n",
      "\t'activity_id.institution_id.source_id.experiment_id.table_id.grid_label'\n",
      "\n",
      "--> There will be 1 group(s)\n"
     ]
    },
    {
     "name": "stderr",
     "output_type": "stream",
     "text": [
      "/glade/u/home/rbrady/miniconda3/envs/analysis/lib/python3.6/site-packages/xarray/conventions.py:494: SerializationWarning: variable 'fgco2' has multiple fill values {1e+20, 1e+20}, decoding all values to NaN.\n",
      "  use_cftime=use_cftime,\n"
     ]
    }
   ],
   "source": [
    "dsets = cat.to_dataset_dict()\n",
    "ds = dsets['CMIP.NCAR.CESM2.historical.Omon.gn']\n",
    "ds = ds.squeeze()\n",
    "ds = ds.reset_coords(drop=True)"
   ]
  },
  {
   "cell_type": "code",
   "execution_count": 45,
   "metadata": {},
   "outputs": [
    {
     "name": "stdout",
     "output_type": "stream",
     "text": [
      "\n",
      "xarray will load netCDF datasets with dask using a single chunk for all arrays.\n",
      "For effective chunking, please provide chunks in cdf_kwargs.\n",
      "For example: cdf_kwargs={'chunks': {'time': 36}}\n",
      "\n",
      "--> The keys in the returned dictionary of datasets are constructed as follows:\n",
      "\t'activity_id.institution_id.source_id.experiment_id.table_id.grid_label'\n",
      "\n",
      "--> There will be 1 group(s)\n"
     ]
    },
    {
     "name": "stderr",
     "output_type": "stream",
     "text": [
      "/glade/u/home/rbrady/miniconda3/envs/analysis/lib/python3.6/site-packages/xarray/conventions.py:494: SerializationWarning: variable 'areacello' has multiple fill values {1e+20, 1e+20}, decoding all values to NaN.\n",
      "  use_cftime=use_cftime,\n"
     ]
    }
   ],
   "source": [
    "# Retrieve areracello\n",
    "cat = col.search(variable_id='areacello',\n",
    "                 activity_id='CMIP',\n",
    "                 table_id='Ofx',\n",
    "                 grid_label='gn',\n",
    "                 source_id='CESM2',\n",
    "                 member_id='r1i1p1f1',\n",
    "                 experiment_id='historical')\n",
    "cat.df\n",
    "\n",
    "dsets = cat.to_dataset_dict()\n",
    "area = dsets['CMIP.NCAR.CESM2.historical.Ofx.gn']"
   ]
  },
  {
   "cell_type": "code",
   "execution_count": 46,
   "metadata": {},
   "outputs": [
    {
     "name": "stdout",
     "output_type": "stream",
     "text": [
      "<xarray.Dataset>\n",
      "Dimensions:  (x: 360, x_b: 361, y: 180, y_b: 181)\n",
      "Coordinates:\n",
      "    lon      (y, x) float64 -179.5 -178.5 -177.5 -176.5 ... 177.5 178.5 179.5\n",
      "    lat      (y, x) float64 -89.5 -89.5 -89.5 -89.5 ... 89.5 89.5 89.5 89.5\n",
      "    lon_b    (y_b, x_b) int64 -180 -179 -178 -177 -176 ... 176 177 178 179 180\n",
      "    lat_b    (y_b, x_b) int64 -90 -90 -90 -90 -90 -90 -90 ... 90 90 90 90 90 90\n",
      "Dimensions without coordinates: x, x_b, y, y_b\n",
      "Data variables:\n",
      "    *empty*\n"
     ]
    }
   ],
   "source": [
    "# Use xESMF to regrid.\n",
    "ds_out = xe.util.grid_global(1, 1)\n",
    "print(ds_out)"
   ]
  },
  {
   "cell_type": "code",
   "execution_count": 60,
   "metadata": {},
   "outputs": [],
   "source": [
    "ds['area'] = area['areacello'].squeeze()\n",
    "\n",
    "ds = ds.rename({'lat_bnds': 'lat_b',\n",
    "                'lon_bnds': 'lon_b',\n",
    "                'nlat': 'y',\n",
    "                'nlon': 'x'})\n",
    "del ds['x'], ds['y']\n",
    "del ds['time_bnds']\n",
    "# assign bounds to coords\n",
    "ds = ds.assign_coords(lat_b=ds.lat_b, lon_b=ds.lon_b)\n",
    "\n",
    "# small time range\n",
    "ds = ds.isel(time=slice(0, 3))"
   ]
  },
  {
   "cell_type": "code",
   "execution_count": 61,
   "metadata": {},
   "outputs": [],
   "source": [
    "ds = compress_vertices(ds)"
   ]
  },
  {
   "cell_type": "code",
   "execution_count": 62,
   "metadata": {},
   "outputs": [],
   "source": [
    "ds = ds.assign_coords(lat=ds.lat, lon=ds.lon)"
   ]
  },
  {
   "cell_type": "code",
   "execution_count": 64,
   "metadata": {},
   "outputs": [],
   "source": [
    "ds = ds.load() # since we have just a few timesteps."
   ]
  },
  {
   "cell_type": "code",
   "execution_count": 65,
   "metadata": {},
   "outputs": [
    {
     "name": "stdout",
     "output_type": "stream",
     "text": [
      "Overwrite existing file: conservative_384x320_180x360.nc \n",
      " You can set reuse_weights=True to save computing time.\n"
     ]
    }
   ],
   "source": [
    "regridder = xe.Regridder(ds, ds_out, 'conservative', ignore_degenerate=True)"
   ]
  },
  {
   "cell_type": "code",
   "execution_count": 67,
   "metadata": {},
   "outputs": [],
   "source": [
    "regridder.periodic = 'true'"
   ]
  },
  {
   "cell_type": "code",
   "execution_count": 68,
   "metadata": {},
   "outputs": [
    {
     "data": {
      "text/plain": [
       "xESMF Regridder \n",
       "Regridding algorithm:       conservative \n",
       "Weight filename:            conservative_384x320_180x360.nc \n",
       "Reuse pre-computed weights? False \n",
       "Input grid shape:           (384, 320) \n",
       "Output grid shape:          (180, 360) \n",
       "Output grid dimension name: ('y', 'x') \n",
       "Periodic in longitude?      true"
      ]
     },
     "execution_count": 68,
     "metadata": {},
     "output_type": "execute_result"
    }
   ],
   "source": [
    "regridder"
   ]
  },
  {
   "cell_type": "code",
   "execution_count": 69,
   "metadata": {},
   "outputs": [
    {
     "name": "stdout",
     "output_type": "stream",
     "text": [
      "using dimensions ('y', 'x') from data variable fgco2 as the horizontal dimensions for this dataset.\n"
     ]
    }
   ],
   "source": [
    "dr_out = regridder(ds)"
   ]
  },
  {
   "cell_type": "code",
   "execution_count": 70,
   "metadata": {},
   "outputs": [],
   "source": [
    "dr_out = dr_out.compute()"
   ]
  },
  {
   "cell_type": "code",
   "execution_count": 134,
   "metadata": {},
   "outputs": [
    {
     "data": {
      "text/plain": [
       "<matplotlib.collections.QuadMesh at 0x2b60f2a7c198>"
      ]
     },
     "execution_count": 134,
     "metadata": {},
     "output_type": "execute_result"
    },
    {
     "data": {
      "image/png": "[encoded data removed]",
      "text/plain": [
       "<Figure size 432x288 with 2 Axes>"
      ]
     },
     "metadata": {
      "needs_background": "light"
     },
     "output_type": "display_data"
    }
   ],
   "source": [
    "dr_out.isel(time=0).fgco2.plot()"
   ]
  }
 ],
 "metadata": {
  "kernelspec": {
   "display_name": "Python [conda env:miniconda3-analysis]",
   "language": "python",
   "name": "conda-env-miniconda3-analysis-py"
  },
  "language_info": {
   "codemirror_mode": {
    "name": "ipython",
    "version": 3
   },
   "file_extension": ".py",
   "mimetype": "text/x-python",
   "name": "python",
   "nbconvert_exporter": "python",
   "pygments_lexer": "ipython3",
   "version": "3.6.7"
  }
 },
 "nbformat": 4,
 "nbformat_minor": 4
}
